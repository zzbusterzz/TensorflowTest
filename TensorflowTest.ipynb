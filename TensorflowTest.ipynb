{
  "nbformat": 4,
  "nbformat_minor": 0,
  "metadata": {
    "colab": {
      "name": "TensorflowTest.ipynb",
      "provenance": [],
      "collapsed_sections": [],
      "authorship_tag": "ABX9TyO8198KdfCYIMlWku4IsqHb",
      "include_colab_link": true
    },
    "kernelspec": {
      "name": "python3",
      "display_name": "Python 3"
    },
    "accelerator": "TPU"
  },
  "cells": [
    {
      "cell_type": "markdown",
      "metadata": {
        "id": "view-in-github",
        "colab_type": "text"
      },
      "source": [
        "<a href=\"https://colab.research.google.com/github/zzbusterzz/TensorflowTest/blob/main/TensorflowTest.ipynb\" target=\"_parent\"><img src=\"https://colab.research.google.com/assets/colab-badge.svg\" alt=\"Open In Colab\"/></a>"
      ]
    },
    {
      "cell_type": "code",
      "metadata": {
        "id": "mcC-aZe-zTP6"
      },
      "source": [
        "!cat /proc/cpuinfo"
      ],
      "execution_count": null,
      "outputs": []
    },
    {
      "cell_type": "markdown",
      "metadata": {
        "id": "5Ucz_buEzsfG"
      },
      "source": [
        "# Python"
      ]
    },
    {
      "cell_type": "code",
      "metadata": {
        "id": "yX1hHdMAzagP"
      },
      "source": [
        "import tensorflow.compat.v1 as tf\r\n",
        "tf.disable_v2_behavior()"
      ],
      "execution_count": 56,
      "outputs": []
    },
    {
      "cell_type": "code",
      "metadata": {
        "id": "QhvM3gJOza0C"
      },
      "source": [
        "train_in = [\r\n",
        "            [1., 1., 1],\r\n",
        "            [1., 0, 1],\r\n",
        "            [0, 1., 1],\r\n",
        "            [0, 0, 1]\r\n",
        "]"
      ],
      "execution_count": 57,
      "outputs": []
    },
    {
      "cell_type": "code",
      "metadata": {
        "id": "2Q5HXejg1Q2V"
      },
      "source": [
        "train_out = [\r\n",
        "             [1.],\r\n",
        "             [0],\r\n",
        "             [0],\r\n",
        "             [0]\r\n",
        "]"
      ],
      "execution_count": 58,
      "outputs": []
    },
    {
      "cell_type": "code",
      "metadata": {
        "id": "IHRuDZP71gh1"
      },
      "source": [
        "w = tf.Variable(tf.random_normal([3,1], seed=12))"
      ],
      "execution_count": 59,
      "outputs": []
    },
    {
      "cell_type": "code",
      "metadata": {
        "id": "J7D66KEC2NxS"
      },
      "source": [
        "x = tf.placeholder(tf.float32,[None,3])\r\n",
        "y = tf.placeholder(tf.float32,[None,1])"
      ],
      "execution_count": 60,
      "outputs": []
    },
    {
      "cell_type": "code",
      "metadata": {
        "id": "Fk_84D1k2vGT"
      },
      "source": [
        "output = tf.nn.relu(tf.matmul(x,w))"
      ],
      "execution_count": 61,
      "outputs": []
    },
    {
      "cell_type": "code",
      "metadata": {
        "id": "ljQxfKax3NOQ"
      },
      "source": [
        "loss = tf.reduce_sum(tf.square(output - y))"
      ],
      "execution_count": 62,
      "outputs": []
    },
    {
      "cell_type": "code",
      "metadata": {
        "id": "EUWbWT1i3VS4"
      },
      "source": [
        "optimiser = tf.train.GradientDescentOptimizer(0.01)\r\n",
        "train = optimiser.minimize(loss)"
      ],
      "execution_count": 63,
      "outputs": []
    },
    {
      "cell_type": "code",
      "metadata": {
        "id": "16y1qnx33twO"
      },
      "source": [
        "init = tf.global_variables_initializer()\r\n",
        "sess = tf.Session()\r\n",
        "sess.run(init)"
      ],
      "execution_count": 64,
      "outputs": []
    },
    {
      "cell_type": "code",
      "metadata": {
        "id": "xN-a9dSu3-6O"
      },
      "source": [
        "for i in range(1000):\r\n",
        "  sess.run(train, {x:train_in, y:train_out})\r\n",
        "  cost = sess.run(loss, feed_dict={x:train_in, y:train_out})\r\n",
        "  print('Epoch--',i,'--loss--',cost)"
      ],
      "execution_count": null,
      "outputs": []
    }
  ]
}