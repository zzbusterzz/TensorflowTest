{
  "nbformat": 4,
  "nbformat_minor": 0,
  "metadata": {
    "colab": {
      "name": "TensorflowTest.ipynb",
      "provenance": [],
      "collapsed_sections": [],
      "authorship_tag": "ABX9TyOuOUWq3i7bkLYrCXr0PzDC",
      "include_colab_link": true
    },
    "kernelspec": {
      "name": "python3",
      "display_name": "Python 3"
    },
    "accelerator": "GPU"
  },
  "cells": [
    {
      "cell_type": "markdown",
      "metadata": {
        "id": "view-in-github",
        "colab_type": "text"
      },
      "source": [
        "<a href=\"https://colab.research.google.com/github/zzbusterzz/TensorflowTest/blob/main/TensorflowTest.ipynb\" target=\"_parent\"><img src=\"https://colab.research.google.com/assets/colab-badge.svg\" alt=\"Open In Colab\"/></a>"
      ]
    },
    {
      "cell_type": "code",
      "metadata": {
        "id": "mcC-aZe-zTP6"
      },
      "source": [
        "!cat /proc/cpuinfo"
      ],
      "execution_count": null,
      "outputs": []
    },
    {
      "cell_type": "code",
      "metadata": {
        "colab": {
          "base_uri": "https://localhost:8080/"
        },
        "id": "Gf_rRb3n-WXK",
        "outputId": "0dbd1942-6d40-436d-fbe7-76192f0e84ff"
      },
      "source": [
        "!nvidia-smi"
      ],
      "execution_count": 1,
      "outputs": [
        {
          "output_type": "stream",
          "text": [
            "Thu Dec 10 23:28:21 2020       \n",
            "+-----------------------------------------------------------------------------+\n",
            "| NVIDIA-SMI 455.45.01    Driver Version: 418.67       CUDA Version: 10.1     |\n",
            "|-------------------------------+----------------------+----------------------+\n",
            "| GPU  Name        Persistence-M| Bus-Id        Disp.A | Volatile Uncorr. ECC |\n",
            "| Fan  Temp  Perf  Pwr:Usage/Cap|         Memory-Usage | GPU-Util  Compute M. |\n",
            "|                               |                      |               MIG M. |\n",
            "|===============================+======================+======================|\n",
            "|   0  Tesla T4            Off  | 00000000:00:04.0 Off |                    0 |\n",
            "| N/A   34C    P8     9W /  70W |      0MiB / 15079MiB |      0%      Default |\n",
            "|                               |                      |                 ERR! |\n",
            "+-------------------------------+----------------------+----------------------+\n",
            "                                                                               \n",
            "+-----------------------------------------------------------------------------+\n",
            "| Processes:                                                                  |\n",
            "|  GPU   GI   CI        PID   Type   Process name                  GPU Memory |\n",
            "|        ID   ID                                                   Usage      |\n",
            "|=============================================================================|\n",
            "|  No running processes found                                                 |\n",
            "+-----------------------------------------------------------------------------+\n"
          ],
          "name": "stdout"
        }
      ]
    },
    {
      "cell_type": "markdown",
      "metadata": {
        "id": "5Ucz_buEzsfG"
      },
      "source": [
        "# Python"
      ]
    },
    {
      "cell_type": "code",
      "metadata": {
        "id": "yX1hHdMAzagP"
      },
      "source": [
        "import tensorflow.compat.v1 as tf\r\n",
        "tf.disable_v2_behavior()"
      ],
      "execution_count": null,
      "outputs": []
    },
    {
      "cell_type": "code",
      "metadata": {
        "id": "QhvM3gJOza0C"
      },
      "source": [
        "train_in = [\r\n",
        "            [1., 1., 1],\r\n",
        "            [1., 0, 1],\r\n",
        "            [0, 1., 1],\r\n",
        "            [0, 0, 1]\r\n",
        "]"
      ],
      "execution_count": null,
      "outputs": []
    },
    {
      "cell_type": "code",
      "metadata": {
        "id": "2Q5HXejg1Q2V"
      },
      "source": [
        "train_out = [\r\n",
        "             [1.],\r\n",
        "             [0],\r\n",
        "             [0],\r\n",
        "             [0]\r\n",
        "]"
      ],
      "execution_count": null,
      "outputs": []
    },
    {
      "cell_type": "code",
      "metadata": {
        "id": "IHRuDZP71gh1"
      },
      "source": [
        "w = tf.Variable(tf.random_normal([3,1], seed=12))"
      ],
      "execution_count": null,
      "outputs": []
    },
    {
      "cell_type": "code",
      "metadata": {
        "id": "J7D66KEC2NxS"
      },
      "source": [
        "x = tf.placeholder(tf.float32,[None,3])\r\n",
        "y = tf.placeholder(tf.float32,[None,1])"
      ],
      "execution_count": null,
      "outputs": []
    },
    {
      "cell_type": "code",
      "metadata": {
        "id": "Fk_84D1k2vGT"
      },
      "source": [
        "output = tf.nn.relu(tf.matmul(x,w))"
      ],
      "execution_count": null,
      "outputs": []
    },
    {
      "cell_type": "code",
      "metadata": {
        "id": "ljQxfKax3NOQ"
      },
      "source": [
        "loss = tf.reduce_sum(tf.square(output - y))"
      ],
      "execution_count": null,
      "outputs": []
    },
    {
      "cell_type": "code",
      "metadata": {
        "id": "EUWbWT1i3VS4"
      },
      "source": [
        "optimiser = tf.train.GradientDescentOptimizer(0.01)\r\n",
        "train = optimiser.minimize(loss)"
      ],
      "execution_count": null,
      "outputs": []
    },
    {
      "cell_type": "code",
      "metadata": {
        "id": "16y1qnx33twO"
      },
      "source": [
        "init = tf.global_variables_initializer()\r\n",
        "sess = tf.Session()\r\n",
        "sess.run(init)"
      ],
      "execution_count": null,
      "outputs": []
    },
    {
      "cell_type": "code",
      "metadata": {
        "id": "xN-a9dSu3-6O"
      },
      "source": [
        "for i in range(1000):\r\n",
        "  sess.run(train, {x:train_in, y:train_out})\r\n",
        "  cost = sess.run(loss, feed_dict={x:train_in, y:train_out})\r\n",
        "  print('Epoch--',i,'--loss--',cost)"
      ],
      "execution_count": null,
      "outputs": []
    }
  ]
}